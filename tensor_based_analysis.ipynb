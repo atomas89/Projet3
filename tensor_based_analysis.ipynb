{
 "cells": [
  {
   "cell_type": "code",
   "execution_count": 6,
   "metadata": {
    "pycharm": {
     "is_executing": false
    }
   },
   "outputs": [],
   "source": [
    "import numpy as np\n",
    "import pandas as pd\n",
    "import tensorflow as tf\n",
    "from tensorflow import keras\n",
    "from sklearn.model_selection import train_test_split\n",
    "from Carabins.data_extraction.analysis import get_subject_metrics, get_traits_rapides_params"
   ]
  },
  {
   "cell_type": "code",
   "execution_count": 7,
   "metadata": {
    "pycharm": {
     "is_executing": false,
     "name": "#%%\n"
    }
   },
   "outputs": [
    {
     "name": "stdout",
     "text": [
      "['id' 'position' 'status' 'height' 'weight' 'fat' 'arm_length'\n 'asym_drop_box' 'asym_tuck_jump' 'hop_g1' 'hop_g2' 'hop_d1' 'hop_d2'\n 'hop3_g1' 'hop3_g2' 'hop3_d1' 'hop3_d2' 'hop3_cr_g1' 'hop3_cr_g2'\n 'hop3_cr_d1' 'hop3_cr_d2' 're_gh_g1' 're_gh_g2' 're_gh_d1' 're_gh_d2'\n 'flex_g1' 'flex_g2' 'flex_d1' 'flex_d2' 'scap_g1' 'scap_g2' 'scap_d1'\n 'scap_d2' 'date' 'injury' 'pain' 'gen' 'phys' 'men' 'act' 'mot'\n 'avg_fatigue' 'subject_id' 't0' 'D1' 'mu1' 'ss1' 'D2' 'mu2' 'ss2' 'SNR'\n 'post_exercise']\n"
     ],
     "output_type": "stream"
    },
    {
     "name": "stderr",
     "text": [
      "C:\\Users\\ettre\\AppData\\Local\\Continuum\\miniconda3\\envs\\Sebastien\\lib\\site-packages\\ipykernel_launcher.py:9: SettingWithCopyWarning: \nA value is trying to be set on a copy of a slice from a DataFrame.\nTry using .loc[row_indexer,col_indexer] = value instead\n\nSee the caveats in the documentation: http://pandas.pydata.org/pandas-docs/stable/indexing.html#indexing-view-versus-copy\n  if __name__ == '__main__':\n"
     ],
     "output_type": "stream"
    }
   ],
   "source": [
    "\n",
    "dbname = 'data_carabins.db'\n",
    "full_data = pd.merge(get_subject_metrics(dbname), get_traits_rapides_params(dbname), left_on='id', right_on='subject_id')\n",
    "\n",
    "# print all available data columns\n",
    "print(full_data.columns.values)\n",
    "selected_data = full_data[['t0', 'D1', 'mu1', 'ss1', 'D2', 'mu2', 'ss2', 'SNR', 'pain']]\n",
    "# interpret no answer as 0 pain\n",
    "selected_data['pain'] = selected_data['pain'].fillna(0)\n",
    "selected_data = selected_data.dropna()\n",
    "X = selected_data[['t0', 'D1', 'mu1', 'ss1', 'D2', 'mu2', 'ss2', 'SNR']].values\n",
    "y = selected_data[['pain']].values"
   ]
  },
  {
   "cell_type": "code",
   "execution_count": 8,
   "metadata": {
    "pycharm": {
     "is_executing": false
    }
   },
   "outputs": [
    {
     "data": {
      "text/plain": "(72, 8)"
     },
     "metadata": {},
     "output_type": "execute_result",
     "execution_count": 8
    }
   ],
   "source": [
    "t_data, v_data, t_labels, v_labels = train_test_split(X, y, test_size=0.2)\n",
    "t_data.shape"
   ]
  },
  {
   "cell_type": "code",
   "execution_count": 9,
   "metadata": {
    "pycharm": {
     "is_executing": false
    }
   },
   "outputs": [
    {
     "name": "stdout",
     "text": [
      "WARNING:tensorflow:From C:\\Users\\ettre\\AppData\\Local\\Continuum\\miniconda3\\envs\\Sebastien\\lib\\site-packages\\tensorflow\\python\\ops\\resource_variable_ops.py:435: colocate_with (from tensorflow.python.framework.ops) is deprecated and will be removed in a future version.\nInstructions for updating:\nColocations handled automatically by placer.\n"
     ],
     "output_type": "stream"
    }
   ],
   "source": [
    "model = keras.Sequential([\n",
    "    keras.layers.Dense(6,activation=tf.nn.tanh),\n",
    "    keras.layers.Dense(12, activation=tf.nn.tanh),\n",
    "    keras.layers.Dense(24, activation=tf.nn.tanh),\n",
    "    keras.layers.Dense(6, activation=tf.nn.softmax)\n",
    "])\n",
    "model.compile(optimizer=keras.optimizers.Nadam(), \n",
    "              loss='sparse_categorical_crossentropy',\n",
    "              metrics=['accuracy'])"
   ]
  },
  {
   "cell_type": "code",
   "execution_count": 37,
   "metadata": {
    "pycharm": {
     "is_executing": false
    }
   },
   "outputs": [
    {
     "name": "stdout",
     "text": [
      "Epoch 1/10\n",
      "\r32/60 [===============>..............] - ETA: 1s - loss: 2.0392 - acc: 0.0625",
      "\b\b\b\b\b\b\b\b\b\b\b\b\b\b\b\b\b\b\b\b\b\b\b\b\b\b\b\b\b\b\b\b\b\b\b\b\b\b\b\b\b\b\b\b\b\b\b\b\b\b\b\b\b\b\b\b\b\b\b\b\b\b\b\b\b\b\b\b\b\b\b\b\b\b\b\b\b\r60/60 [==============================] - 2s 31ms/sample - loss: 1.9961 - acc: 0.0667\n",
      "Epoch 2/10\n\r32/60 [===============>..............] - ETA: 0s - loss: 1.9144 - acc: 0.0625",
      "\b\b\b\b\b\b\b\b\b\b\b\b\b\b\b\b\b\b\b\b\b\b\b\b\b\b\b\b\b\b\b\b\b\b\b\b\b\b\b\b\b\b\b\b\b\b\b\b\b\b\b\b\b\b\b\b\b\b\b\b\b\b\b\b\b\b\b\b\b\b\b\b\b\b\b\b\b\r60/60 [==============================] - 0s 501us/sample - loss: 1.9026 - acc: 0.0667\n",
      "Epoch 3/10\n\r32/60 [===============>..............] - ETA: 0s - loss: 1.8272 - acc: 0.0938",
      "\b\b\b\b\b\b\b\b\b\b\b\b\b\b\b\b\b\b\b\b\b\b\b\b\b\b\b\b\b\b\b\b\b\b\b\b\b\b\b\b\b\b\b\b\b\b\b\b\b\b\b\b\b\b\b\b\b\b\b\b\b\b\b\b\b\b\b\b\b\b\b\b\b\b\b\b\b\r60/60 [==============================] - 0s 150us/sample - loss: 1.8205 - acc: 0.0667\n",
      "Epoch 4/10\n\r32/60 [===============>..............] - ETA: 0s - loss: 1.7431 - acc: 0.1250",
      "\b\b\b\b\b\b\b\b\b\b\b\b\b\b\b\b\b\b\b\b\b\b\b\b\b\b\b\b\b\b\b\b\b\b\b\b\b\b\b\b\b\b\b\b\b\b\b\b\b\b\b\b\b\b\b\b\b\b\b\b\b\b\b\b\b\b\b\b\b\b\b\b\b\b\b\b\b\r60/60 [==============================] - 0s 117us/sample - loss: 1.7400 - acc: 0.0667\n",
      "Epoch 5/10\n\r32/60 [===============>..............] - ETA: 0s - loss: 1.6629 - acc: 0.0938",
      "\b\b\b\b\b\b\b\b\b\b\b\b\b\b\b\b\b\b\b\b\b\b\b\b\b\b\b\b\b\b\b\b\b\b\b\b\b\b\b\b\b\b\b\b\b\b\b\b\b\b\b\b\b\b\b\b\b\b\b\b\b\b\b\b\b\b\b\b\b\b\b\b\b\b\b\b\b\r60/60 [==============================] - 0s 117us/sample - loss: 1.6577 - acc: 0.0667\n",
      "Epoch 6/10\n\r32/60 [===============>..............] - ETA: 0s - loss: 1.5856 - acc: 0.0625",
      "\b\b\b\b\b\b\b\b\b\b\b\b\b\b\b\b\b\b\b\b\b\b\b\b\b\b\b\b\b\b\b\b\b\b\b\b\b\b\b\b\b\b\b\b\b\b\b\b\b\b\b\b\b\b\b\b\b\b\b\b\b\b\b\b\b\b\b\b\b\b\b\b\b\b\b\b\b\r60/60 [==============================] - 0s 150us/sample - loss: 1.5734 - acc: 0.3833\n",
      "Epoch 7/10\n\r32/60 [===============>..............] - ETA: 0s - loss: 1.5193 - acc: 0.7188",
      "\b\b\b\b\b\b\b\b\b\b\b\b\b\b\b\b\b\b\b\b\b\b\b\b\b\b\b\b\b\b\b\b\b\b\b\b\b\b\b\b\b\b\b\b\b\b\b\b\b\b\b\b\b\b\b\b\b\b\b\b\b\b\b\b\b\b\b\b\b\b\b\b\b\b\b\b\b\r60/60 [==============================] - 0s 150us/sample - loss: 1.4849 - acc: 0.7833\n",
      "Epoch 8/10\n\r32/60 [===============>..............] - ETA: 0s - loss: 1.4619 - acc: 0.7500",
      "\b\b\b\b\b\b\b\b\b\b\b\b\b\b\b\b\b\b\b\b\b\b\b\b\b\b\b\b\b\b\b\b\b\b\b\b\b\b\b\b\b\b\b\b\b\b\b\b\b\b\b\b\b\b\b\b\b\b\b\b\b\b\b\b\b\b\b\b\b\b\b\b\b\b\b\b\b\r60/60 [==============================] - 0s 117us/sample - loss: 1.4003 - acc: 0.7833\n",
      "Epoch 9/10\n\r32/60 [===============>..............] - ETA: 0s - loss: 1.3137 - acc: 0.7812",
      "\b\b\b\b\b\b\b\b\b\b\b\b\b\b\b\b\b\b\b\b\b\b\b\b\b\b\b\b\b\b\b\b\b\b\b\b\b\b\b\b\b\b\b\b\b\b\b\b\b\b\b\b\b\b\b\b\b\b\b\b\b\b\b\b\b\b\b\b\b\b\b\b\b\b\b\b\b\r60/60 [==============================] - 0s 184us/sample - loss: 1.3153 - acc: 0.7833\n",
      "Epoch 10/10\n\r32/60 [===============>..............] - ETA: 0s - loss: 1.3410 - acc: 0.6875",
      "\b\b\b\b\b\b\b\b\b\b\b\b\b\b\b\b\b\b\b\b\b\b\b\b\b\b\b\b\b\b\b\b\b\b\b\b\b\b\b\b\b\b\b\b\b\b\b\b\b\b\b\b\b\b\b\b\b\b\b\b\b\b\b\b\b\b\b\b\b\b\b\b\b\b\b\b\b\r60/60 [==============================] - 0s 133us/sample - loss: 1.2315 - acc: 0.7833\n"
     ],
     "output_type": "stream"
    },
    {
     "data": {
      "text/plain": "<tensorflow.python.keras.callbacks.History at 0x1f4121aecf8>"
     },
     "metadata": {},
     "output_type": "execute_result",
     "execution_count": 37
    }
   ],
   "source": [
    "model.fit(t_data, t_labels, epochs=10)"
   ]
  },
  {
   "cell_type": "code",
   "execution_count": 38,
   "metadata": {
    "pycharm": {
     "is_executing": false
    }
   },
   "outputs": [
    {
     "name": "stdout",
     "text": [
      "\r15/15 [==============================] - 0s 9ms/sample - loss: 1.1680 - acc: 0.8000\n"
     ],
     "output_type": "stream"
    }
   ],
   "source": [
    "test_loss, test_acc = model.evaluate(v_data, v_labels)"
   ]
  },
  {
   "cell_type": "code",
   "execution_count": 39,
   "metadata": {
    "pycharm": {
     "is_executing": false
    }
   },
   "outputs": [
    {
     "data": {
      "text/plain": "1.1679993867874146"
     },
     "metadata": {},
     "output_type": "execute_result",
     "execution_count": 39
    }
   ],
   "source": [
    "test_loss"
   ]
  },
  {
   "cell_type": "code",
   "execution_count": 40,
   "metadata": {
    "pycharm": {
     "is_executing": false
    }
   },
   "outputs": [
    {
     "data": {
      "text/plain": "0.8"
     },
     "metadata": {},
     "output_type": "execute_result",
     "execution_count": 40
    }
   ],
   "source": [
    "test_acc"
   ]
  },
  {
   "cell_type": "code",
   "execution_count": 50,
   "metadata": {
    "pycharm": {
     "is_executing": false
    }
   },
   "outputs": [
    {
     "name": "stdout",
     "text": [
      "[0 0 0 0 0 1 0 0 0 0 0 0 0 0 0]\n[4 0 0 0 0 0 0 0 0 0 0 0 0 2 0]\n"
     ],
     "output_type": "stream"
    }
   ],
   "source": [
    "predictions = model.predict(v_data)\n",
    "predictions.shape\n",
    "print(np.argmax(predictions, axis=1))\n",
    "print(np.transpose(v_labels).astype(int)[0])"
   ]
  },
  {
   "cell_type": "code",
   "execution_count": null,
   "metadata": {
    "pycharm": {
     "is_executing": true
    }
   },
   "outputs": [],
   "source": [
    "print(v_labels)"
   ]
  },
  {
   "cell_type": "code",
   "execution_count": null,
   "metadata": {},
   "outputs": [],
   "source": []
  }
 ],
 "metadata": {
  "kernelspec": {
   "display_name": "Python 3",
   "language": "python",
   "name": "python3"
  },
  "language_info": {
   "codemirror_mode": {
    "name": "ipython",
    "version": 3
   },
   "file_extension": ".py",
   "mimetype": "text/x-python",
   "name": "python",
   "nbconvert_exporter": "python",
   "pygments_lexer": "ipython3",
   "version": "3.7.3"
  },
  "pycharm": {
   "stem_cell": {
    "cell_type": "raw",
    "source": [],
    "metadata": {
     "collapsed": false
    }
   }
  }
 },
 "nbformat": 4,
 "nbformat_minor": 2
}