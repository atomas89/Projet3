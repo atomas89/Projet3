{
 "cells": [
  {
   "cell_type": "code",
   "execution_count": 7,
   "metadata": {
    "pycharm": {
     "is_executing": false
    }
   },
   "outputs": [
    {
     "name": "stdout",
     "text": [
      "Using matplotlib backend: Qt5Agg\n",
      "Importing Jupyter notebook from data.ipynb\n"
     ],
     "output_type": "stream"
    },
    {
     "data": {
      "text/plain": "<module 'data' from 'data.ipynb'>"
     },
     "metadata": {},
     "output_type": "execute_result",
     "execution_count": 7
    }
   ],
   "source": [
    "import csv\n",
    "import matplotlib.pyplot as mp\n",
    "import numpy as np\n",
    "import random as rand\n",
    "import nbimporter\n",
    "import data\n",
    "from data import data_set\n",
    "from importlib import reload \n",
    "%matplotlib\n",
    "reload(data)"
   ]
  },
  {
   "cell_type": "code",
   "execution_count": 8,
   "metadata": {
    "pycharm": {
     "is_executing": false
    }
   },
   "outputs": [
    {
     "traceback": [
      "\u001b[1;31m---------------------------------------------------------------------------\u001b[0m",
      "\u001b[1;31mFileNotFoundError\u001b[0m                         Traceback (most recent call last)",
      "\u001b[1;32m<ipython-input-8-b97767543e97>\u001b[0m in \u001b[0;36m<module>\u001b[1;34m\u001b[0m\n\u001b[1;32m----> 1\u001b[1;33m \u001b[0mds\u001b[0m\u001b[1;33m=\u001b[0m\u001b[0mdata_set\u001b[0m\u001b[1;33m(\u001b[0m\u001b[1;34m\"handwriting.csv\"\u001b[0m\u001b[1;33m,\u001b[0m\u001b[1;34m\"fatigue.csv\"\u001b[0m\u001b[1;33m)\u001b[0m\u001b[1;33m\u001b[0m\u001b[1;33m\u001b[0m\u001b[0m\n\u001b[0m\u001b[0;32m      2\u001b[0m \u001b[0mds\u001b[0m\u001b[1;33m.\u001b[0m\u001b[0msave\u001b[0m\u001b[1;33m(\u001b[0m\u001b[1;34m\"test.csv\"\u001b[0m\u001b[1;33m)\u001b[0m\u001b[1;33m\u001b[0m\u001b[1;33m\u001b[0m\u001b[0m\n\u001b[0;32m      3\u001b[0m \u001b[0mds\u001b[0m\u001b[1;33m.\u001b[0m\u001b[0mdivide\u001b[0m\u001b[1;33m(\u001b[0m\u001b[1;34m\"test_training.csv\"\u001b[0m\u001b[1;33m,\u001b[0m\u001b[1;34m\"test_validation.csv\"\u001b[0m\u001b[1;33m)\u001b[0m\u001b[1;33m\u001b[0m\u001b[1;33m\u001b[0m\u001b[0m\n",
      "\u001b[1;32m~\\Projects\\Sebastien\\Projet3\\data.ipynb\u001b[0m in \u001b[0;36m__init__\u001b[1;34m(self, handwriting_file, fatigue_file, medical_file)\u001b[0m\n\u001b[0;32m    106\u001b[0m     \u001b[1;34m\"        self.std_sigma2=(self.std_sigma2/len(self.datapoints))**(1/2.0)\\n\"\u001b[0m\u001b[1;33m,\u001b[0m\u001b[1;33m\u001b[0m\u001b[1;33m\u001b[0m\u001b[0m\n\u001b[0;32m    107\u001b[0m     \u001b[1;34m\"        self.std_SNR=(self.std_SNR/len(self.datapoints))**(1/2.0)\\n\"\u001b[0m\u001b[1;33m,\u001b[0m\u001b[1;33m\u001b[0m\u001b[1;33m\u001b[0m\u001b[0m\n\u001b[1;32m--> 108\u001b[1;33m     \u001b[1;34m\"        self.std_t0=(self.std_t0/len(self.datapoints))**(1/2.0)\\n\"\u001b[0m\u001b[1;33m,\u001b[0m\u001b[1;33m\u001b[0m\u001b[1;33m\u001b[0m\u001b[0m\n\u001b[0m\u001b[0;32m    109\u001b[0m     \u001b[1;34m\"        \\n\"\u001b[0m\u001b[1;33m,\u001b[0m\u001b[1;33m\u001b[0m\u001b[1;33m\u001b[0m\u001b[0m\n\u001b[0;32m    110\u001b[0m     \u001b[1;34m\"    \\n\"\u001b[0m\u001b[1;33m,\u001b[0m\u001b[1;33m\u001b[0m\u001b[1;33m\u001b[0m\u001b[0m\n",
      "\u001b[1;31mFileNotFoundError\u001b[0m: [Errno 2] No such file or directory: 'handwriting.csv'"
     ],
     "ename": "FileNotFoundError",
     "evalue": "[Errno 2] No such file or directory: 'handwriting.csv'",
     "output_type": "error"
    }
   ],
   "source": [
    "ds=data_set(\"handwriting.csv\",\"fatigue.csv\")\n",
    "ds.save(\"test.csv\")\n",
    "ds.divide(\"test_training.csv\",\"test_validation.csv\")"
   ]
  },
  {
   "cell_type": "code",
   "execution_count": 7,
   "metadata": {},
   "outputs": [
    {
     "data": {
      "text/plain": [
       "(14, 40)"
      ]
     },
     "execution_count": 7,
     "metadata": {},
     "output_type": "execute_result"
    }
   ],
   "source": [
    "sig1=[]\n",
    "sig2=[]\n",
    "mu1=[]\n",
    "mu2=[]\n",
    "subject_id=[]\n",
    "histdat1=[]\n",
    "histdat2=[]\n",
    "histdat3=[]\n",
    "histdat4=[]\n",
    "histdat5=[]\n",
    "histdat6=[]\n",
    "SNR35analysis=[[],[],[]]\n",
    "SNR30analysis=[[],[],[]]\n",
    "SNR25analysis=[[],[],[]]\n",
    "SNR20analysis=[[],[],[]]\n",
    "SNRanalysis=[[],[],[]]\n",
    "\n",
    "for sub in ds.subjects:\n",
    "    if(int(ds.subjects[sub].pain)>3):\n",
    "        color=[(1,0,0,0.8)]\n",
    "        selector=1\n",
    "    elif(int(ds.subjects[sub].pain)<1):\n",
    "        color=[(0,1,0,0.2)]\n",
    "        selector=3\n",
    "    else:\n",
    "        color=[(0,0,1,0.1)]\n",
    "        selector=2\n",
    "    #color=[(int(ds.subjects[sub].gen)/16.0,0,1-int(ds.subjects[sub].gen)/16.0,0.3)]\n",
    "    subject_id.append(sub)\n",
    "    subject=ds.subjects[sub]\n",
    "    histdat1.append(int(ds.subjects[sub].gen))\n",
    "    histdat2.append(int(ds.subjects[sub].phys))\n",
    "    histdat3.append(int(ds.subjects[sub].men))\n",
    "    histdat4.append(int(ds.subjects[sub].act))\n",
    "    histdat5.append(int(ds.subjects[sub].mot))\n",
    "    histdat6.append(int(ds.subjects[sub].pain))\n",
    "    \n",
    "    for subset in subject.datapoints:\n",
    "        mumu=subject.datapoints[subset].mu1/subject.datapoints[subset].mu2\n",
    "        dudu=subject.datapoints[subset].D1/subject.datapoints[subset].D2\n",
    "        sisi=subject.datapoints[subset].sigsq1/subject.datapoints[subset].sigsq2\n",
    "        musi1=subject.datapoints[subset].mu1/subject.datapoints[subset].sigsq1\n",
    "        musi2=subject.datapoints[subset].mu2/subject.datapoints[subset].sigsq2\n",
    "        if(subject.datapoints[subset].SNR>=35):\n",
    "            SNR35analysis[selector-1].append(subject.datapoints[subset].SNR)\n",
    "        if(subject.datapoints[subset].SNR>=30):\n",
    "            SNR30analysis[selector-1].append(subject.datapoints[subset].SNR)\n",
    "        if(subject.datapoints[subset].SNR>=25):\n",
    "            SNR25analysis[selector-1].append(subject.datapoints[subset].SNR)\n",
    "        if(subject.datapoints[subset].SNR>=20):\n",
    "            SNR20analysis[selector-1].append(subject.datapoints[subset].SNR)\n",
    "        \n",
    "        \n",
    "        SNRanalysis[selector-1].append(subject.datapoints[subset].SNR)\n",
    "        fig=mp.figure(1)\n",
    "        mp.subplot(1,3,selector)\n",
    "        mp.scatter(subject.datapoints[subset].mu1,subject.datapoints[subset].mu2,c=color)\n",
    "        \n",
    "        fig2=mp.figure(2)\n",
    "        mp.subplot(1,3,selector)\n",
    "        mp.scatter(subject.datapoints[subset].sigsq1,subject.datapoints[subset].sigsq2,c=color)\n",
    "        \n",
    "        fig2=mp.figure(3)\n",
    "        mp.subplot(1,3,selector)\n",
    "        mp.scatter(subject.datapoints[subset].mu1,subject.datapoints[subset].SNR,c=color)\n",
    "        \n",
    "        mp.figure(4)\n",
    "        mp.subplot(1,3,selector)\n",
    "        mp.scatter(musi1,musi2,c=color)\n",
    "        \n",
    "        mp.figure(5)\n",
    "        mp.subplot(1,3,selector)\n",
    "        mp.scatter(musi1,subject.datapoints[subset].SNR,c=color)\n",
    "        \n",
    "        \n",
    "        fig8=mp.figure(8)\n",
    "        mp.xscale('log')\n",
    "        mp.scatter(sisi,subject.datapoints[subset].SNR,c=color)\n",
    "        fig9=mp.figure(9)\n",
    "        mp.subplot(1,3,selector)\n",
    "        mp.scatter(subject.datapoints[subset].t0,subject.datapoints[subset].SNR,c=color)\n",
    "        \n",
    "    fig10=mp.figure(10)\n",
    "    mp.subplot(6,2,1)\n",
    "    mp.scatter(int(subject.sub_id),subject.mean_mu1,c=color)\n",
    "    mp.subplot(6,2,2)\n",
    "    mp.scatter(int(subject.sub_id),subject.mean_mu2,c=color)\n",
    "    mp.subplot(6,2,3)\n",
    "    mp.scatter(int(subject.sub_id),subject.mean_sigma1,c=color)\n",
    "    mp.subplot(6,2,4)\n",
    "    mp.scatter(int(subject.sub_id),subject.mean_sigma2,c=color)    \n",
    "    mp.subplot(6,2,5)\n",
    "    mp.scatter(int(subject.sub_id),subject.std_mu1,c=color)\n",
    "    mp.subplot(6,2,6)\n",
    "    mp.scatter(int(subject.sub_id),subject.std_sigma1,c=color)\n",
    "    mp.subplot(6,2,7)\n",
    "    mp.scatter(subject.std_mu1,subject.std_mu2,c=color)\n",
    "    mp.subplot(6,2,8)\n",
    "    mp.scatter(subject.std_sigma1,subject.std_sigma2,c=color)\n",
    "    mp.subplot(6,2,9)\n",
    "    mp.scatter(int(subject.sub_id),subject.mean_SNR,c=color)\n",
    "    mp.subplot(6,2,10)\n",
    "    mp.scatter(int(subject.sub_id),subject.std_SNR,c=color)\n",
    "    mp.subplot(6,2,11)\n",
    "    mp.scatter(int(subject.sub_id),subject.mean_t0,c=color)\n",
    "    mp.subplot(6,2,12)\n",
    "    mp.scatter(int(subject.sub_id),subject.std_t0,c=color)\n",
    "\n",
    "        \n",
    "fig6=mp.figure(6)\n",
    "mp.title(\"distribution des caracteristiques de chaque participant\")\n",
    "mp.subplot(3,2,1)\n",
    "mp.hist(histdat1,max(histdat1)-min(histdat1))\n",
    "mp.subplot(3,2,2)\n",
    "mp.hist(histdat2,max(histdat2)-min(histdat2))\n",
    "mp.subplot(3,2,3)\n",
    "mp.hist(histdat3,max(histdat3)-min(histdat3))\n",
    "mp.subplot(3,2,4)\n",
    "mp.hist(histdat4,max(histdat4)-min(histdat4))\n",
    "mp.subplot(3,2,5)\n",
    "mp.hist(histdat5,max(histdat5)-min(histdat5))\n",
    "mp.subplot(3,2,6)\n",
    "mp.hist(histdat6,max(histdat6)-min(histdat6))\n",
    "\n",
    "\n",
    "\n",
    "bins=30\n",
    "fig7=mp.figure(11)\n",
    "fig7.canvas.set_window_title(\"distribution du SNR par douleur percue(d>3,1<=d<=3,d=0)\")\n",
    "mp.subplot(5,3,1)\n",
    "mp.hist(SNRanalysis[0],bins)\n",
    "mp.xlim([14,40])\n",
    "mp.subplot(5,3,2)\n",
    "mp.hist(SNRanalysis[1],bins)\n",
    "mp.xlim([14,40])\n",
    "mp.subplot(5,3,3)\n",
    "mp.hist(SNRanalysis[2],bins)\n",
    "mp.xlim([14,40])\n",
    "\n",
    "\n",
    "mp.subplot(5,3,4)\n",
    "mp.hist(SNR20analysis[0],bins)\n",
    "mp.xlim([14,40])\n",
    "mp.subplot(5,3,5)\n",
    "mp.hist(SNR20analysis[1],bins)\n",
    "mp.xlim([14,40])\n",
    "mp.subplot(5,3,6)\n",
    "mp.hist(SNR20analysis[2],bins)\n",
    "mp.xlim([14,40])\n",
    "\n",
    "mp.subplot(5,3,7)\n",
    "mp.hist(SNR25analysis[0],bins)\n",
    "mp.xlim([14,40])\n",
    "mp.subplot(5,3,8)\n",
    "mp.hist(SNR25analysis[1],bins)\n",
    "mp.xlim([14,40])\n",
    "mp.subplot(5,3,9)\n",
    "mp.hist(SNR25analysis[2],bins)\n",
    "mp.xlim([14,40])\n",
    "\n",
    "\n",
    "mp.subplot(5,3,10)\n",
    "mp.hist(SNR30analysis[0],bins)\n",
    "mp.xlim([14,40])\n",
    "mp.subplot(5,3,11)\n",
    "mp.hist(SNR30analysis[1],bins)\n",
    "mp.xlim([14,40])\n",
    "mp.subplot(5,3,12)\n",
    "mp.hist(SNR30analysis[2],bins)\n",
    "mp.xlim([14,40])\n",
    "\n",
    "mp.subplot(5,3,13)\n",
    "mp.hist(SNR35analysis[0],bins)\n",
    "mp.xlim([14,40])\n",
    "mp.subplot(5,3,14)\n",
    "mp.hist(SNR35analysis[1],bins)\n",
    "mp.xlim([14,40])\n",
    "mp.subplot(5,3,15)\n",
    "mp.hist(SNR35analysis[2],bins)\n",
    "mp.xlim([14,40])"
   ]
  },
  {
   "cell_type": "code",
   "execution_count": null,
   "metadata": {},
   "outputs": [],
   "source": []
  },
  {
   "cell_type": "code",
   "execution_count": null,
   "metadata": {},
   "outputs": [],
   "source": []
  }
 ],
 "metadata": {
  "kernelspec": {
   "display_name": "Python 3",
   "language": "python",
   "name": "python3"
  },
  "language_info": {
   "codemirror_mode": {
    "name": "ipython",
    "version": 3
   },
   "file_extension": ".py",
   "mimetype": "text/x-python",
   "name": "python",
   "nbconvert_exporter": "python",
   "pygments_lexer": "ipython3",
   "version": "3.7.3"
  },
  "pycharm": {
   "stem_cell": {
    "cell_type": "raw",
    "source": [],
    "metadata": {
     "collapsed": false
    }
   }
  }
 },
 "nbformat": 4,
 "nbformat_minor": 2
}